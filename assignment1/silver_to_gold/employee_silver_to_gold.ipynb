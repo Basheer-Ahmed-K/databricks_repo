{
 "cells": [
  {
   "cell_type": "code",
   "execution_count": 0,
   "metadata": {
    "application/vnd.databricks.v1+cell": {
     "cellMetadata": {
      "byteLimit": 2048000,
      "rowLimit": 10000
     },
     "inputWidgets": {},
     "nuid": "a6acd8f6-9ebc-48b2-a029-8d2a00bb68dc",
     "showTitle": false,
     "title": ""
    }
   },
   "outputs": [],
   "source": [
    "from pyspark.sql.functions import desc, count, avg"
   ]
  },
  {
   "cell_type": "code",
   "execution_count": 0,
   "metadata": {
    "application/vnd.databricks.v1+cell": {
     "cellMetadata": {
      "byteLimit": 2048000,
      "rowLimit": 10000
     },
     "inputWidgets": {},
     "nuid": "ab0e0e58-7fab-4cf6-bd9c-6d58c335c9f4",
     "showTitle": false,
     "title": ""
    }
   },
   "outputs": [],
   "source": [
    "%run ../source_to_bronze/utils"
   ]
  },
  {
   "cell_type": "code",
   "execution_count": 0,
   "metadata": {
    "application/vnd.databricks.v1+cell": {
     "cellMetadata": {
      "byteLimit": 2048000,
      "rowLimit": 10000
     },
     "inputWidgets": {},
     "nuid": "ccf47a1f-8d7a-4a43-8929-35c428f55abb",
     "showTitle": false,
     "title": ""
    },
    "jupyter": {
     "outputs_hidden": true
    }
   },
   "outputs": [
    {
     "output_type": "stream",
     "name": "stdout",
     "output_type": "stream",
     "text": [
      "Out[110]: <function __main__.camel_to_snake_case(df)>"
     ]
    },
    {
     "output_type": "stream",
     "name": "stdout",
     "output_type": "stream",
     "text": [
      "Out[119]: <function __main__.camel_to_snake_case(df)>"
     ]
    }
   ],
   "source": [
    "%run ../bronze_to_silver/employee_bronze_to_silver"
   ]
  },
  {
   "cell_type": "code",
   "execution_count": 0,
   "metadata": {
    "application/vnd.databricks.v1+cell": {
     "cellMetadata": {
      "byteLimit": 2048000,
      "rowLimit": 10000
     },
     "inputWidgets": {},
     "nuid": "5b2f50a3-cd47-4b11-acc3-9f64689d24b1",
     "showTitle": false,
     "title": ""
    }
   },
   "outputs": [
    {
     "output_type": "display_data",
     "data": {
      "text/html": [
       "<style scoped>\n",
       "  .table-result-container {\n",
       "    max-height: 300px;\n",
       "    overflow: auto;\n",
       "  }\n",
       "  table, th, td {\n",
       "    border: 1px solid black;\n",
       "    border-collapse: collapse;\n",
       "  }\n",
       "  th, td {\n",
       "    padding: 5px;\n",
       "  }\n",
       "  th {\n",
       "    text-align: left;\n",
       "  }\n",
       "</style><div class='table-result-container'><table class='table-result'><thead style='background-color: white'><tr><th>employeeid</th><th>employeename</th><th>department</th><th>country</th><th>salary</th><th>age</th><th>load_date</th></tr></thead><tbody><tr><td>1</td><td>James</td><td>D101</td><td>IN</td><td>9000</td><td>25</td><td>2024-04-16</td></tr><tr><td>2</td><td>Michel</td><td>D102</td><td>SA</td><td>8000</td><td>26</td><td>2024-04-16</td></tr><tr><td>3</td><td>James son</td><td>D101</td><td>IN</td><td>10000</td><td>35</td><td>2024-04-16</td></tr><tr><td>4</td><td>Robert</td><td>D103</td><td>MY</td><td>11000</td><td>34</td><td>2024-04-16</td></tr><tr><td>5</td><td>Scott</td><td>D104</td><td>MA</td><td>6000</td><td>36</td><td>2024-04-16</td></tr><tr><td>6</td><td>Gen</td><td>D105</td><td>JA</td><td>21345</td><td>24</td><td>2024-04-16</td></tr><tr><td>7</td><td>John</td><td>D102</td><td>MY</td><td>87654</td><td>40</td><td>2024-04-16</td></tr><tr><td>8</td><td>Maria</td><td>D105</td><td>SA</td><td>38144</td><td>38</td><td>2024-04-16</td></tr><tr><td>9</td><td>Soffy</td><td>D103</td><td>IN</td><td>23456</td><td>29</td><td>2024-04-16</td></tr><tr><td>10</td><td>Amy</td><td>D103</td><td>CN</td><td>21345</td><td>24</td><td>2024-04-16</td></tr></tbody></table></div>"
      ]
     },
     "metadata": {
      "application/vnd.databricks.v1+output": {
       "addedWidgets": {},
       "aggData": [],
       "aggError": "",
       "aggOverflow": false,
       "aggSchema": [],
       "aggSeriesLimitReached": false,
       "aggType": "",
       "arguments": {},
       "columnCustomDisplayInfos": {},
       "data": [
        [
         1,
         "James",
         "D101",
         "IN",
         9000,
         25,
         "2024-04-16"
        ],
        [
         2,
         "Michel",
         "D102",
         "SA",
         8000,
         26,
         "2024-04-16"
        ],
        [
         3,
         "James son",
         "D101",
         "IN",
         10000,
         35,
         "2024-04-16"
        ],
        [
         4,
         "Robert",
         "D103",
         "MY",
         11000,
         34,
         "2024-04-16"
        ],
        [
         5,
         "Scott",
         "D104",
         "MA",
         6000,
         36,
         "2024-04-16"
        ],
        [
         6,
         "Gen",
         "D105",
         "JA",
         21345,
         24,
         "2024-04-16"
        ],
        [
         7,
         "John",
         "D102",
         "MY",
         87654,
         40,
         "2024-04-16"
        ],
        [
         8,
         "Maria",
         "D105",
         "SA",
         38144,
         38,
         "2024-04-16"
        ],
        [
         9,
         "Soffy",
         "D103",
         "IN",
         23456,
         29,
         "2024-04-16"
        ],
        [
         10,
         "Amy",
         "D103",
         "CN",
         21345,
         24,
         "2024-04-16"
        ]
       ],
       "datasetInfos": [],
       "dbfsResultPath": null,
       "isJsonSchema": true,
       "metadata": {},
       "overflow": false,
       "plotOptions": {
        "customPlotOptions": {},
        "displayType": "table",
        "pivotAggregation": null,
        "pivotColumns": null,
        "xColumns": null,
        "yColumns": null
       },
       "removedWidgets": [],
       "schema": [
        {
         "metadata": "{}",
         "name": "employeeid",
         "type": "\"integer\""
        },
        {
         "metadata": "{}",
         "name": "employeename",
         "type": "\"string\""
        },
        {
         "metadata": "{}",
         "name": "department",
         "type": "\"string\""
        },
        {
         "metadata": "{}",
         "name": "country",
         "type": "\"string\""
        },
        {
         "metadata": "{}",
         "name": "salary",
         "type": "\"integer\""
        },
        {
         "metadata": "{}",
         "name": "age",
         "type": "\"integer\""
        },
        {
         "metadata": "{}",
         "name": "load_date",
         "type": "\"date\""
        }
       ],
       "type": "table"
      }
     },
     "output_type": "display_data"
    },
    {
     "output_type": "display_data",
     "data": {
      "text/html": [
       "<style scoped>\n",
       "  .table-result-container {\n",
       "    max-height: 300px;\n",
       "    overflow: auto;\n",
       "  }\n",
       "  table, th, td {\n",
       "    border: 1px solid black;\n",
       "    border-collapse: collapse;\n",
       "  }\n",
       "  th, td {\n",
       "    padding: 5px;\n",
       "  }\n",
       "  th {\n",
       "    text-align: left;\n",
       "  }\n",
       "</style><div class='table-result-container'><table class='table-result'><thead style='background-color: white'><tr><th>EmployeeID</th><th>EmployeeName</th><th>Department</th><th>Country</th><th>Salary</th><th>Age</th></tr></thead><tbody><tr><td>1</td><td>James</td><td>D101</td><td>IN</td><td>9000</td><td>25</td></tr><tr><td>2</td><td>Michel</td><td>D102</td><td>SA</td><td>8000</td><td>26</td></tr><tr><td>3</td><td>James son</td><td>D101</td><td>IN</td><td>10000</td><td>35</td></tr><tr><td>4</td><td>Robert</td><td>D103</td><td>MY</td><td>11000</td><td>34</td></tr><tr><td>5</td><td>Scott</td><td>D104</td><td>MA</td><td>6000</td><td>36</td></tr><tr><td>6</td><td>Gen</td><td>D105</td><td>JA</td><td>21345</td><td>24</td></tr><tr><td>7</td><td>John</td><td>D102</td><td>MY</td><td>87654</td><td>40</td></tr><tr><td>8</td><td>Maria</td><td>D105</td><td>SA</td><td>38144</td><td>38</td></tr><tr><td>9</td><td>Soffy</td><td>D103</td><td>IN</td><td>23456</td><td>29</td></tr><tr><td>10</td><td>Amy</td><td>D103</td><td>CN</td><td>21345</td><td>24</td></tr></tbody></table></div>"
      ]
     },
     "metadata": {
      "application/vnd.databricks.v1+output": {
       "addedWidgets": {},
       "aggData": [],
       "aggError": "",
       "aggOverflow": false,
       "aggSchema": [],
       "aggSeriesLimitReached": false,
       "aggType": "",
       "arguments": {},
       "columnCustomDisplayInfos": {},
       "data": [
        [
         1,
         "James",
         "D101",
         "IN",
         9000,
         25
        ],
        [
         2,
         "Michel",
         "D102",
         "SA",
         8000,
         26
        ],
        [
         3,
         "James son",
         "D101",
         "IN",
         10000,
         35
        ],
        [
         4,
         "Robert",
         "D103",
         "MY",
         11000,
         34
        ],
        [
         5,
         "Scott",
         "D104",
         "MA",
         6000,
         36
        ],
        [
         6,
         "Gen",
         "D105",
         "JA",
         21345,
         24
        ],
        [
         7,
         "John",
         "D102",
         "MY",
         87654,
         40
        ],
        [
         8,
         "Maria",
         "D105",
         "SA",
         38144,
         38
        ],
        [
         9,
         "Soffy",
         "D103",
         "IN",
         23456,
         29
        ],
        [
         10,
         "Amy",
         "D103",
         "CN",
         21345,
         24
        ]
       ],
       "datasetInfos": [],
       "dbfsResultPath": null,
       "isJsonSchema": true,
       "metadata": {},
       "overflow": false,
       "plotOptions": {
        "customPlotOptions": {},
        "displayType": "table",
        "pivotAggregation": null,
        "pivotColumns": null,
        "xColumns": null,
        "yColumns": null
       },
       "removedWidgets": [],
       "schema": [
        {
         "metadata": "{}",
         "name": "EmployeeID",
         "type": "\"integer\""
        },
        {
         "metadata": "{}",
         "name": "EmployeeName",
         "type": "\"string\""
        },
        {
         "metadata": "{}",
         "name": "Department",
         "type": "\"string\""
        },
        {
         "metadata": "{}",
         "name": "Country",
         "type": "\"string\""
        },
        {
         "metadata": "{}",
         "name": "Salary",
         "type": "\"integer\""
        },
        {
         "metadata": "{}",
         "name": "Age",
         "type": "\"integer\""
        }
       ],
       "type": "table"
      }
     },
     "output_type": "display_data"
    },
    {
     "output_type": "display_data",
     "data": {
      "text/html": [
       "<style scoped>\n",
       "  .table-result-container {\n",
       "    max-height: 300px;\n",
       "    overflow: auto;\n",
       "  }\n",
       "  table, th, td {\n",
       "    border: 1px solid black;\n",
       "    border-collapse: collapse;\n",
       "  }\n",
       "  th, td {\n",
       "    padding: 5px;\n",
       "  }\n",
       "  th {\n",
       "    text-align: left;\n",
       "  }\n",
       "</style><div class='table-result-container'><table class='table-result'><thead style='background-color: white'><tr><th>CountryCode</th><th>CountryName</th></tr></thead><tbody><tr><td>CN</td><td>China</td></tr><tr><td>IN</td><td>India</td></tr><tr><td>SA</td><td>South Africa</td></tr><tr><td>JA</td><td>Japan</td></tr><tr><td>MY</td><td>Malaysia</td></tr><tr><td>MA</td><td>Morocco</td></tr></tbody></table></div>"
      ]
     },
     "metadata": {
      "application/vnd.databricks.v1+output": {
       "addedWidgets": {},
       "aggData": [],
       "aggError": "",
       "aggOverflow": false,
       "aggSchema": [],
       "aggSeriesLimitReached": false,
       "aggType": "",
       "arguments": {},
       "columnCustomDisplayInfos": {},
       "data": [
        [
         "CN",
         "China"
        ],
        [
         "IN",
         "India"
        ],
        [
         "SA",
         "South Africa"
        ],
        [
         "JA",
         "Japan"
        ],
        [
         "MY",
         "Malaysia"
        ],
        [
         "MA",
         "Morocco"
        ]
       ],
       "datasetInfos": [],
       "dbfsResultPath": null,
       "isJsonSchema": true,
       "metadata": {},
       "overflow": false,
       "plotOptions": {
        "customPlotOptions": {},
        "displayType": "table",
        "pivotAggregation": null,
        "pivotColumns": null,
        "xColumns": null,
        "yColumns": null
       },
       "removedWidgets": [],
       "schema": [
        {
         "metadata": "{}",
         "name": "CountryCode",
         "type": "\"string\""
        },
        {
         "metadata": "{}",
         "name": "CountryName",
         "type": "\"string\""
        }
       ],
       "type": "table"
      }
     },
     "output_type": "display_data"
    },
    {
     "output_type": "display_data",
     "data": {
      "text/html": [
       "<style scoped>\n",
       "  .table-result-container {\n",
       "    max-height: 300px;\n",
       "    overflow: auto;\n",
       "  }\n",
       "  table, th, td {\n",
       "    border: 1px solid black;\n",
       "    border-collapse: collapse;\n",
       "  }\n",
       "  th, td {\n",
       "    padding: 5px;\n",
       "  }\n",
       "  th {\n",
       "    text-align: left;\n",
       "  }\n",
       "</style><div class='table-result-container'><table class='table-result'><thead style='background-color: white'><tr><th>DepartmentID</th><th>DepartmentName</th></tr></thead><tbody><tr><td>D101</td><td>Sales</td></tr><tr><td>D102</td><td>Marketing</td></tr><tr><td>D103</td><td>Finance</td></tr><tr><td>D104</td><td>Support</td></tr><tr><td>D105</td><td>HR</td></tr></tbody></table></div>"
      ]
     },
     "metadata": {
      "application/vnd.databricks.v1+output": {
       "addedWidgets": {},
       "aggData": [],
       "aggError": "",
       "aggOverflow": false,
       "aggSchema": [],
       "aggSeriesLimitReached": false,
       "aggType": "",
       "arguments": {},
       "columnCustomDisplayInfos": {},
       "data": [
        [
         "D101",
         "Sales"
        ],
        [
         "D102",
         "Marketing"
        ],
        [
         "D103",
         "Finance"
        ],
        [
         "D104",
         "Support"
        ],
        [
         "D105",
         "HR"
        ]
       ],
       "datasetInfos": [],
       "dbfsResultPath": null,
       "isJsonSchema": true,
       "metadata": {},
       "overflow": false,
       "plotOptions": {
        "customPlotOptions": {},
        "displayType": "table",
        "pivotAggregation": null,
        "pivotColumns": null,
        "xColumns": null,
        "yColumns": null
       },
       "removedWidgets": [],
       "schema": [
        {
         "metadata": "{}",
         "name": "DepartmentID",
         "type": "\"string\""
        },
        {
         "metadata": "{}",
         "name": "DepartmentName",
         "type": "\"string\""
        }
       ],
       "type": "table"
      }
     },
     "output_type": "display_data"
    },
    {
     "output_type": "display_data",
     "data": {
      "text/html": [
       "<style scoped>\n",
       "  .table-result-container {\n",
       "    max-height: 300px;\n",
       "    overflow: auto;\n",
       "  }\n",
       "  table, th, td {\n",
       "    border: 1px solid black;\n",
       "    border-collapse: collapse;\n",
       "  }\n",
       "  th, td {\n",
       "    padding: 5px;\n",
       "  }\n",
       "  th {\n",
       "    text-align: left;\n",
       "  }\n",
       "</style><div class='table-result-container'><table class='table-result'><thead style='background-color: white'><tr><th>employeeid</th><th>employeename</th><th>department</th><th>country</th><th>salary</th><th>age</th></tr></thead><tbody><tr><td>1</td><td>James</td><td>D101</td><td>IN</td><td>9000</td><td>25</td></tr><tr><td>2</td><td>Michel</td><td>D102</td><td>SA</td><td>8000</td><td>26</td></tr><tr><td>3</td><td>James son</td><td>D101</td><td>IN</td><td>10000</td><td>35</td></tr><tr><td>4</td><td>Robert</td><td>D103</td><td>MY</td><td>11000</td><td>34</td></tr><tr><td>5</td><td>Scott</td><td>D104</td><td>MA</td><td>6000</td><td>36</td></tr><tr><td>6</td><td>Gen</td><td>D105</td><td>JA</td><td>21345</td><td>24</td></tr><tr><td>7</td><td>John</td><td>D102</td><td>MY</td><td>87654</td><td>40</td></tr><tr><td>8</td><td>Maria</td><td>D105</td><td>SA</td><td>38144</td><td>38</td></tr><tr><td>9</td><td>Soffy</td><td>D103</td><td>IN</td><td>23456</td><td>29</td></tr><tr><td>10</td><td>Amy</td><td>D103</td><td>CN</td><td>21345</td><td>24</td></tr></tbody></table></div>"
      ]
     },
     "metadata": {
      "application/vnd.databricks.v1+output": {
       "addedWidgets": {},
       "aggData": [],
       "aggError": "",
       "aggOverflow": false,
       "aggSchema": [],
       "aggSeriesLimitReached": false,
       "aggType": "",
       "arguments": {},
       "columnCustomDisplayInfos": {},
       "data": [
        [
         1,
         "James",
         "D101",
         "IN",
         9000,
         25
        ],
        [
         2,
         "Michel",
         "D102",
         "SA",
         8000,
         26
        ],
        [
         3,
         "James son",
         "D101",
         "IN",
         10000,
         35
        ],
        [
         4,
         "Robert",
         "D103",
         "MY",
         11000,
         34
        ],
        [
         5,
         "Scott",
         "D104",
         "MA",
         6000,
         36
        ],
        [
         6,
         "Gen",
         "D105",
         "JA",
         21345,
         24
        ],
        [
         7,
         "John",
         "D102",
         "MY",
         87654,
         40
        ],
        [
         8,
         "Maria",
         "D105",
         "SA",
         38144,
         38
        ],
        [
         9,
         "Soffy",
         "D103",
         "IN",
         23456,
         29
        ],
        [
         10,
         "Amy",
         "D103",
         "CN",
         21345,
         24
        ]
       ],
       "datasetInfos": [],
       "dbfsResultPath": null,
       "isJsonSchema": true,
       "metadata": {},
       "overflow": false,
       "plotOptions": {
        "customPlotOptions": {},
        "displayType": "table",
        "pivotAggregation": null,
        "pivotColumns": null,
        "xColumns": null,
        "yColumns": null
       },
       "removedWidgets": [],
       "schema": [
        {
         "metadata": "{}",
         "name": "employeeid",
         "type": "\"integer\""
        },
        {
         "metadata": "{}",
         "name": "employeename",
         "type": "\"string\""
        },
        {
         "metadata": "{}",
         "name": "department",
         "type": "\"string\""
        },
        {
         "metadata": "{}",
         "name": "country",
         "type": "\"string\""
        },
        {
         "metadata": "{}",
         "name": "salary",
         "type": "\"integer\""
        },
        {
         "metadata": "{}",
         "name": "age",
         "type": "\"integer\""
        }
       ],
       "type": "table"
      }
     },
     "output_type": "display_data"
    },
    {
     "output_type": "display_data",
     "data": {
      "text/html": [
       "<style scoped>\n",
       "  .table-result-container {\n",
       "    max-height: 300px;\n",
       "    overflow: auto;\n",
       "  }\n",
       "  table, th, td {\n",
       "    border: 1px solid black;\n",
       "    border-collapse: collapse;\n",
       "  }\n",
       "  th, td {\n",
       "    padding: 5px;\n",
       "  }\n",
       "  th {\n",
       "    text-align: left;\n",
       "  }\n",
       "</style><div class='table-result-container'><table class='table-result'><thead style='background-color: white'><tr><th>departmentid</th><th>departmentname</th></tr></thead><tbody><tr><td>D101</td><td>Sales</td></tr><tr><td>D102</td><td>Marketing</td></tr><tr><td>D103</td><td>Finance</td></tr><tr><td>D104</td><td>Support</td></tr><tr><td>D105</td><td>HR</td></tr></tbody></table></div>"
      ]
     },
     "metadata": {
      "application/vnd.databricks.v1+output": {
       "addedWidgets": {},
       "aggData": [],
       "aggError": "",
       "aggOverflow": false,
       "aggSchema": [],
       "aggSeriesLimitReached": false,
       "aggType": "",
       "arguments": {},
       "columnCustomDisplayInfos": {},
       "data": [
        [
         "D101",
         "Sales"
        ],
        [
         "D102",
         "Marketing"
        ],
        [
         "D103",
         "Finance"
        ],
        [
         "D104",
         "Support"
        ],
        [
         "D105",
         "HR"
        ]
       ],
       "datasetInfos": [],
       "dbfsResultPath": null,
       "isJsonSchema": true,
       "metadata": {},
       "overflow": false,
       "plotOptions": {
        "customPlotOptions": {},
        "displayType": "table",
        "pivotAggregation": null,
        "pivotColumns": null,
        "xColumns": null,
        "yColumns": null
       },
       "removedWidgets": [],
       "schema": [
        {
         "metadata": "{}",
         "name": "departmentid",
         "type": "\"string\""
        },
        {
         "metadata": "{}",
         "name": "departmentname",
         "type": "\"string\""
        }
       ],
       "type": "table"
      }
     },
     "output_type": "display_data"
    },
    {
     "output_type": "display_data",
     "data": {
      "text/html": [
       "<style scoped>\n",
       "  .table-result-container {\n",
       "    max-height: 300px;\n",
       "    overflow: auto;\n",
       "  }\n",
       "  table, th, td {\n",
       "    border: 1px solid black;\n",
       "    border-collapse: collapse;\n",
       "  }\n",
       "  th, td {\n",
       "    padding: 5px;\n",
       "  }\n",
       "  th {\n",
       "    text-align: left;\n",
       "  }\n",
       "</style><div class='table-result-container'><table class='table-result'><thead style='background-color: white'><tr><th>countrycode</th><th>countryname</th></tr></thead><tbody><tr><td>CN</td><td>China</td></tr><tr><td>IN</td><td>India</td></tr><tr><td>SA</td><td>South Africa</td></tr><tr><td>JA</td><td>Japan</td></tr><tr><td>MY</td><td>Malaysia</td></tr><tr><td>MA</td><td>Morocco</td></tr></tbody></table></div>"
      ]
     },
     "metadata": {
      "application/vnd.databricks.v1+output": {
       "addedWidgets": {},
       "aggData": [],
       "aggError": "",
       "aggOverflow": false,
       "aggSchema": [],
       "aggSeriesLimitReached": false,
       "aggType": "",
       "arguments": {},
       "columnCustomDisplayInfos": {},
       "data": [
        [
         "CN",
         "China"
        ],
        [
         "IN",
         "India"
        ],
        [
         "SA",
         "South Africa"
        ],
        [
         "JA",
         "Japan"
        ],
        [
         "MY",
         "Malaysia"
        ],
        [
         "MA",
         "Morocco"
        ]
       ],
       "datasetInfos": [],
       "dbfsResultPath": null,
       "isJsonSchema": true,
       "metadata": {},
       "overflow": false,
       "plotOptions": {
        "customPlotOptions": {},
        "displayType": "table",
        "pivotAggregation": null,
        "pivotColumns": null,
        "xColumns": null,
        "yColumns": null
       },
       "removedWidgets": [],
       "schema": [
        {
         "metadata": "{}",
         "name": "countrycode",
         "type": "\"string\""
        },
        {
         "metadata": "{}",
         "name": "countryname",
         "type": "\"string\""
        }
       ],
       "type": "table"
      }
     },
     "output_type": "display_data"
    },
    {
     "output_type": "display_data",
     "data": {
      "text/html": [
       "<style scoped>\n",
       "  .table-result-container {\n",
       "    max-height: 300px;\n",
       "    overflow: auto;\n",
       "  }\n",
       "  table, th, td {\n",
       "    border: 1px solid black;\n",
       "    border-collapse: collapse;\n",
       "  }\n",
       "  th, td {\n",
       "    padding: 5px;\n",
       "  }\n",
       "  th {\n",
       "    text-align: left;\n",
       "  }\n",
       "</style><div class='table-result-container'><table class='table-result'><thead style='background-color: white'><tr><th>EmployeeID</th><th>EmployeeName</th><th>Department</th><th>Country</th><th>Salary</th><th>Age</th></tr></thead><tbody><tr><td>1</td><td>James</td><td>D101</td><td>IN</td><td>9000</td><td>25</td></tr><tr><td>2</td><td>Michel</td><td>D102</td><td>SA</td><td>8000</td><td>26</td></tr><tr><td>3</td><td>James son</td><td>D101</td><td>IN</td><td>10000</td><td>35</td></tr><tr><td>4</td><td>Robert</td><td>D103</td><td>MY</td><td>11000</td><td>34</td></tr><tr><td>5</td><td>Scott</td><td>D104</td><td>MA</td><td>6000</td><td>36</td></tr><tr><td>6</td><td>Gen</td><td>D105</td><td>JA</td><td>21345</td><td>24</td></tr><tr><td>7</td><td>John</td><td>D102</td><td>MY</td><td>87654</td><td>40</td></tr><tr><td>8</td><td>Maria</td><td>D105</td><td>SA</td><td>38144</td><td>38</td></tr><tr><td>9</td><td>Soffy</td><td>D103</td><td>IN</td><td>23456</td><td>29</td></tr><tr><td>10</td><td>Amy</td><td>D103</td><td>CN</td><td>21345</td><td>24</td></tr></tbody></table></div>"
      ]
     },
     "metadata": {
      "application/vnd.databricks.v1+output": {
       "addedWidgets": {},
       "aggData": [],
       "aggError": "",
       "aggOverflow": false,
       "aggSchema": [],
       "aggSeriesLimitReached": false,
       "aggType": "",
       "arguments": {},
       "columnCustomDisplayInfos": {},
       "data": [
        [
         1,
         "James",
         "D101",
         "IN",
         9000,
         25
        ],
        [
         2,
         "Michel",
         "D102",
         "SA",
         8000,
         26
        ],
        [
         3,
         "James son",
         "D101",
         "IN",
         10000,
         35
        ],
        [
         4,
         "Robert",
         "D103",
         "MY",
         11000,
         34
        ],
        [
         5,
         "Scott",
         "D104",
         "MA",
         6000,
         36
        ],
        [
         6,
         "Gen",
         "D105",
         "JA",
         21345,
         24
        ],
        [
         7,
         "John",
         "D102",
         "MY",
         87654,
         40
        ],
        [
         8,
         "Maria",
         "D105",
         "SA",
         38144,
         38
        ],
        [
         9,
         "Soffy",
         "D103",
         "IN",
         23456,
         29
        ],
        [
         10,
         "Amy",
         "D103",
         "CN",
         21345,
         24
        ]
       ],
       "datasetInfos": [],
       "dbfsResultPath": null,
       "isJsonSchema": true,
       "metadata": {},
       "overflow": false,
       "plotOptions": {
        "customPlotOptions": {},
        "displayType": "table",
        "pivotAggregation": null,
        "pivotColumns": null,
        "xColumns": null,
        "yColumns": null
       },
       "removedWidgets": [],
       "schema": [
        {
         "metadata": "{}",
         "name": "EmployeeID",
         "type": "\"integer\""
        },
        {
         "metadata": "{}",
         "name": "EmployeeName",
         "type": "\"string\""
        },
        {
         "metadata": "{}",
         "name": "Department",
         "type": "\"string\""
        },
        {
         "metadata": "{}",
         "name": "Country",
         "type": "\"string\""
        },
        {
         "metadata": "{}",
         "name": "Salary",
         "type": "\"integer\""
        },
        {
         "metadata": "{}",
         "name": "Age",
         "type": "\"integer\""
        }
       ],
       "type": "table"
      }
     },
     "output_type": "display_data"
    },
    {
     "output_type": "display_data",
     "data": {
      "text/html": [
       "<style scoped>\n",
       "  .table-result-container {\n",
       "    max-height: 300px;\n",
       "    overflow: auto;\n",
       "  }\n",
       "  table, th, td {\n",
       "    border: 1px solid black;\n",
       "    border-collapse: collapse;\n",
       "  }\n",
       "  th, td {\n",
       "    padding: 5px;\n",
       "  }\n",
       "  th {\n",
       "    text-align: left;\n",
       "  }\n",
       "</style><div class='table-result-container'><table class='table-result'><thead style='background-color: white'><tr><th>DepartmentID</th><th>DepartmentName</th></tr></thead><tbody><tr><td>D101</td><td>Sales</td></tr><tr><td>D102</td><td>Marketing</td></tr><tr><td>D103</td><td>Finance</td></tr><tr><td>D104</td><td>Support</td></tr><tr><td>D105</td><td>HR</td></tr></tbody></table></div>"
      ]
     },
     "metadata": {
      "application/vnd.databricks.v1+output": {
       "addedWidgets": {},
       "aggData": [],
       "aggError": "",
       "aggOverflow": false,
       "aggSchema": [],
       "aggSeriesLimitReached": false,
       "aggType": "",
       "arguments": {},
       "columnCustomDisplayInfos": {},
       "data": [
        [
         "D101",
         "Sales"
        ],
        [
         "D102",
         "Marketing"
        ],
        [
         "D103",
         "Finance"
        ],
        [
         "D104",
         "Support"
        ],
        [
         "D105",
         "HR"
        ]
       ],
       "datasetInfos": [],
       "dbfsResultPath": null,
       "isJsonSchema": true,
       "metadata": {},
       "overflow": false,
       "plotOptions": {
        "customPlotOptions": {},
        "displayType": "table",
        "pivotAggregation": null,
        "pivotColumns": null,
        "xColumns": null,
        "yColumns": null
       },
       "removedWidgets": [],
       "schema": [
        {
         "metadata": "{}",
         "name": "DepartmentID",
         "type": "\"string\""
        },
        {
         "metadata": "{}",
         "name": "DepartmentName",
         "type": "\"string\""
        }
       ],
       "type": "table"
      }
     },
     "output_type": "display_data"
    },
    {
     "output_type": "display_data",
     "data": {
      "text/html": [
       "<style scoped>\n",
       "  .table-result-container {\n",
       "    max-height: 300px;\n",
       "    overflow: auto;\n",
       "  }\n",
       "  table, th, td {\n",
       "    border: 1px solid black;\n",
       "    border-collapse: collapse;\n",
       "  }\n",
       "  th, td {\n",
       "    padding: 5px;\n",
       "  }\n",
       "  th {\n",
       "    text-align: left;\n",
       "  }\n",
       "</style><div class='table-result-container'><table class='table-result'><thead style='background-color: white'><tr><th>countrycode</th><th>countryname</th><th>load_date</th></tr></thead><tbody><tr><td>CN</td><td>China</td><td>2024-04-16</td></tr><tr><td>IN</td><td>India</td><td>2024-04-16</td></tr><tr><td>SA</td><td>South Africa</td><td>2024-04-16</td></tr><tr><td>JA</td><td>Japan</td><td>2024-04-16</td></tr><tr><td>MY</td><td>Malaysia</td><td>2024-04-16</td></tr><tr><td>MA</td><td>Morocco</td><td>2024-04-16</td></tr></tbody></table></div>"
      ]
     },
     "metadata": {
      "application/vnd.databricks.v1+output": {
       "addedWidgets": {},
       "aggData": [],
       "aggError": "",
       "aggOverflow": false,
       "aggSchema": [],
       "aggSeriesLimitReached": false,
       "aggType": "",
       "arguments": {},
       "columnCustomDisplayInfos": {},
       "data": [
        [
         "CN",
         "China",
         "2024-04-16"
        ],
        [
         "IN",
         "India",
         "2024-04-16"
        ],
        [
         "SA",
         "South Africa",
         "2024-04-16"
        ],
        [
         "JA",
         "Japan",
         "2024-04-16"
        ],
        [
         "MY",
         "Malaysia",
         "2024-04-16"
        ],
        [
         "MA",
         "Morocco",
         "2024-04-16"
        ]
       ],
       "datasetInfos": [],
       "dbfsResultPath": null,
       "isJsonSchema": true,
       "metadata": {},
       "overflow": false,
       "plotOptions": {
        "customPlotOptions": {},
        "displayType": "table",
        "pivotAggregation": null,
        "pivotColumns": null,
        "xColumns": null,
        "yColumns": null
       },
       "removedWidgets": [],
       "schema": [
        {
         "metadata": "{}",
         "name": "countrycode",
         "type": "\"string\""
        },
        {
         "metadata": "{}",
         "name": "countryname",
         "type": "\"string\""
        },
        {
         "metadata": "{}",
         "name": "load_date",
         "type": "\"date\""
        }
       ],
       "type": "table"
      }
     },
     "output_type": "display_data"
    }
   ],
   "source": [
    "employee_df = spark.read.format(\"delta\").load('dbfs:/FileStore/assignments/questoin1/silver/employee_info/dim_employee')\n",
    "display(employee_df)"
   ]
  },
  {
   "cell_type": "code",
   "execution_count": 0,
   "metadata": {
    "application/vnd.databricks.v1+cell": {
     "cellMetadata": {
      "byteLimit": 2048000,
      "rowLimit": 10000
     },
     "inputWidgets": {},
     "nuid": "5623fe7a-7599-452b-a297-06cfd45eada1",
     "showTitle": false,
     "title": ""
    }
   },
   "outputs": [
    {
     "output_type": "display_data",
     "data": {
      "text/html": [
       "<style scoped>\n",
       "  .table-result-container {\n",
       "    max-height: 300px;\n",
       "    overflow: auto;\n",
       "  }\n",
       "  table, th, td {\n",
       "    border: 1px solid black;\n",
       "    border-collapse: collapse;\n",
       "  }\n",
       "  th, td {\n",
       "    padding: 5px;\n",
       "  }\n",
       "  th {\n",
       "    text-align: left;\n",
       "  }\n",
       "</style><div class='table-result-container'><table class='table-result'><thead style='background-color: white'><tr><th>department</th><th>salary</th></tr></thead><tbody><tr><td>D102</td><td>87654</td></tr><tr><td>D105</td><td>38144</td></tr><tr><td>D103</td><td>23456</td></tr><tr><td>D105</td><td>21345</td></tr><tr><td>D103</td><td>21345</td></tr><tr><td>D103</td><td>11000</td></tr><tr><td>D101</td><td>10000</td></tr><tr><td>D101</td><td>9000</td></tr><tr><td>D102</td><td>8000</td></tr><tr><td>D104</td><td>6000</td></tr></tbody></table></div>"
      ]
     },
     "metadata": {
      "application/vnd.databricks.v1+output": {
       "addedWidgets": {},
       "aggData": [],
       "aggError": "",
       "aggOverflow": false,
       "aggSchema": [],
       "aggSeriesLimitReached": false,
       "aggType": "",
       "arguments": {},
       "columnCustomDisplayInfos": {},
       "data": [
        [
         "D102",
         87654
        ],
        [
         "D105",
         38144
        ],
        [
         "D103",
         23456
        ],
        [
         "D105",
         21345
        ],
        [
         "D103",
         21345
        ],
        [
         "D103",
         11000
        ],
        [
         "D101",
         10000
        ],
        [
         "D101",
         9000
        ],
        [
         "D102",
         8000
        ],
        [
         "D104",
         6000
        ]
       ],
       "datasetInfos": [],
       "dbfsResultPath": null,
       "isJsonSchema": true,
       "metadata": {},
       "overflow": false,
       "plotOptions": {
        "customPlotOptions": {},
        "displayType": "table",
        "pivotAggregation": null,
        "pivotColumns": null,
        "xColumns": null,
        "yColumns": null
       },
       "removedWidgets": [],
       "schema": [
        {
         "metadata": "{}",
         "name": "department",
         "type": "\"string\""
        },
        {
         "metadata": "{}",
         "name": "salary",
         "type": "\"integer\""
        }
       ],
       "type": "table"
      }
     },
     "output_type": "display_data"
    }
   ],
   "source": [
    "salary_of_department = employee_with_date_df.orderBy(desc('salary'))\n",
    "display(salary_of_department.select('department', 'salary'))"
   ]
  },
  {
   "cell_type": "code",
   "execution_count": 0,
   "metadata": {
    "application/vnd.databricks.v1+cell": {
     "cellMetadata": {
      "byteLimit": 2048000,
      "rowLimit": 10000
     },
     "inputWidgets": {},
     "nuid": "70075359-7558-458f-8548-2b55371c6ec7",
     "showTitle": false,
     "title": ""
    }
   },
   "outputs": [
    {
     "output_type": "display_data",
     "data": {
      "text/html": [
       "<style scoped>\n",
       "  .table-result-container {\n",
       "    max-height: 300px;\n",
       "    overflow: auto;\n",
       "  }\n",
       "  table, th, td {\n",
       "    border: 1px solid black;\n",
       "    border-collapse: collapse;\n",
       "  }\n",
       "  th, td {\n",
       "    padding: 5px;\n",
       "  }\n",
       "  th {\n",
       "    text-align: left;\n",
       "  }\n",
       "</style><div class='table-result-container'><table class='table-result'><thead style='background-color: white'><tr><th>department</th><th>country</th><th>employee_count</th></tr></thead><tbody><tr><td>D103</td><td>MY</td><td>1</td></tr><tr><td>D103</td><td>IN</td><td>1</td></tr><tr><td>D105</td><td>JA</td><td>1</td></tr><tr><td>D102</td><td>SA</td><td>1</td></tr><tr><td>D101</td><td>IN</td><td>2</td></tr><tr><td>D102</td><td>MY</td><td>1</td></tr><tr><td>D103</td><td>CN</td><td>1</td></tr><tr><td>D105</td><td>SA</td><td>1</td></tr><tr><td>D104</td><td>MA</td><td>1</td></tr></tbody></table></div>"
      ]
     },
     "metadata": {
      "application/vnd.databricks.v1+output": {
       "addedWidgets": {},
       "aggData": [],
       "aggError": "",
       "aggOverflow": false,
       "aggSchema": [],
       "aggSeriesLimitReached": false,
       "aggType": "",
       "arguments": {},
       "columnCustomDisplayInfos": {},
       "data": [
        [
         "D103",
         "MY",
         1
        ],
        [
         "D103",
         "IN",
         1
        ],
        [
         "D105",
         "JA",
         1
        ],
        [
         "D102",
         "SA",
         1
        ],
        [
         "D101",
         "IN",
         2
        ],
        [
         "D102",
         "MY",
         1
        ],
        [
         "D103",
         "CN",
         1
        ],
        [
         "D105",
         "SA",
         1
        ],
        [
         "D104",
         "MA",
         1
        ]
       ],
       "datasetInfos": [],
       "dbfsResultPath": null,
       "isJsonSchema": true,
       "metadata": {},
       "overflow": false,
       "plotOptions": {
        "customPlotOptions": {},
        "displayType": "table",
        "pivotAggregation": null,
        "pivotColumns": null,
        "xColumns": null,
        "yColumns": null
       },
       "removedWidgets": [],
       "schema": [
        {
         "metadata": "{}",
         "name": "department",
         "type": "\"string\""
        },
        {
         "metadata": "{}",
         "name": "country",
         "type": "\"string\""
        },
        {
         "metadata": "{}",
         "name": "employee_count",
         "type": "\"long\""
        }
       ],
       "type": "table"
      }
     },
     "output_type": "display_data"
    }
   ],
   "source": [
    "employee_count = employee_df.groupBy(\"department\", \"country\").agg(count(\"employeeid\").alias(\"employee_count\"))\n",
    "display(employee_count)"
   ]
  },
  {
   "cell_type": "code",
   "execution_count": 0,
   "metadata": {
    "application/vnd.databricks.v1+cell": {
     "cellMetadata": {
      "byteLimit": 2048000,
      "rowLimit": 10000
     },
     "inputWidgets": {},
     "nuid": "8987779c-beb6-4227-bb30-5296be1aa275",
     "showTitle": false,
     "title": ""
    }
   },
   "outputs": [
    {
     "output_type": "display_data",
     "data": {
      "text/html": [
       "<style scoped>\n",
       "  .table-result-container {\n",
       "    max-height: 300px;\n",
       "    overflow: auto;\n",
       "  }\n",
       "  table, th, td {\n",
       "    border: 1px solid black;\n",
       "    border-collapse: collapse;\n",
       "  }\n",
       "  th, td {\n",
       "    padding: 5px;\n",
       "  }\n",
       "  th {\n",
       "    text-align: left;\n",
       "  }\n",
       "</style><div class='table-result-container'><table class='table-result'><thead style='background-color: white'><tr><th>departmentname</th><th>countryname</th></tr></thead><tbody><tr><td>Sales</td><td>India</td></tr><tr><td>Marketing</td><td>South Africa</td></tr><tr><td>Sales</td><td>India</td></tr><tr><td>Finance</td><td>Malaysia</td></tr><tr><td>Support</td><td>Morocco</td></tr><tr><td>HR</td><td>Japan</td></tr><tr><td>Marketing</td><td>Malaysia</td></tr><tr><td>HR</td><td>South Africa</td></tr><tr><td>Finance</td><td>India</td></tr><tr><td>Finance</td><td>China</td></tr></tbody></table></div>"
      ]
     },
     "metadata": {
      "application/vnd.databricks.v1+output": {
       "addedWidgets": {},
       "aggData": [],
       "aggError": "",
       "aggOverflow": false,
       "aggSchema": [],
       "aggSeriesLimitReached": false,
       "aggType": "",
       "arguments": {},
       "columnCustomDisplayInfos": {},
       "data": [
        [
         "Sales",
         "India"
        ],
        [
         "Marketing",
         "South Africa"
        ],
        [
         "Sales",
         "India"
        ],
        [
         "Finance",
         "Malaysia"
        ],
        [
         "Support",
         "Morocco"
        ],
        [
         "HR",
         "Japan"
        ],
        [
         "Marketing",
         "Malaysia"
        ],
        [
         "HR",
         "South Africa"
        ],
        [
         "Finance",
         "India"
        ],
        [
         "Finance",
         "China"
        ]
       ],
       "datasetInfos": [],
       "dbfsResultPath": null,
       "isJsonSchema": true,
       "metadata": {},
       "overflow": false,
       "plotOptions": {
        "customPlotOptions": {},
        "displayType": "table",
        "pivotAggregation": null,
        "pivotColumns": null,
        "xColumns": null,
        "yColumns": null
       },
       "removedWidgets": [],
       "schema": [
        {
         "metadata": "{}",
         "name": "departmentname",
         "type": "\"string\""
        },
        {
         "metadata": "{}",
         "name": "countryname",
         "type": "\"string\""
        }
       ],
       "type": "table"
      }
     },
     "output_type": "display_data"
    }
   ],
   "source": [
    "department_join_df = employee_with_date_df.join(department_with_date_df, employee_with_date_df.department == department_with_date_df.departmentid, \"inner\")\n",
    "country_join_df = department_join_df.join(country_with_date_df, department_join_df.country == country_with_date_df.countrycode, \"inner\")\n",
    "department_with_country = country_join_df.select('departmentname', 'countryname')\n",
    "display(department_with_country)"
   ]
  },
  {
   "cell_type": "code",
   "execution_count": 0,
   "metadata": {
    "application/vnd.databricks.v1+cell": {
     "cellMetadata": {
      "byteLimit": 2048000,
      "rowLimit": 10000
     },
     "inputWidgets": {},
     "nuid": "7bd8a792-54ac-4fbe-8e6e-19daa97036f3",
     "showTitle": false,
     "title": ""
    }
   },
   "outputs": [
    {
     "output_type": "display_data",
     "data": {
      "text/html": [
       "<style scoped>\n",
       "  .table-result-container {\n",
       "    max-height: 300px;\n",
       "    overflow: auto;\n",
       "  }\n",
       "  table, th, td {\n",
       "    border: 1px solid black;\n",
       "    border-collapse: collapse;\n",
       "  }\n",
       "  th, td {\n",
       "    padding: 5px;\n",
       "  }\n",
       "  th {\n",
       "    text-align: left;\n",
       "  }\n",
       "</style><div class='table-result-container'><table class='table-result'><thead style='background-color: white'><tr><th>department</th><th>avg_age</th></tr></thead><tbody><tr><td>D105</td><td>31.0</td></tr><tr><td>D104</td><td>36.0</td></tr><tr><td>D103</td><td>29.0</td></tr><tr><td>D101</td><td>30.0</td></tr><tr><td>D102</td><td>33.0</td></tr></tbody></table></div>"
      ]
     },
     "metadata": {
      "application/vnd.databricks.v1+output": {
       "addedWidgets": {},
       "aggData": [],
       "aggError": "",
       "aggOverflow": false,
       "aggSchema": [],
       "aggSeriesLimitReached": false,
       "aggType": "",
       "arguments": {},
       "columnCustomDisplayInfos": {},
       "data": [
        [
         "D105",
         31.0
        ],
        [
         "D104",
         36.0
        ],
        [
         "D103",
         29.0
        ],
        [
         "D101",
         30.0
        ],
        [
         "D102",
         33.0
        ]
       ],
       "datasetInfos": [],
       "dbfsResultPath": null,
       "isJsonSchema": true,
       "metadata": {},
       "overflow": false,
       "plotOptions": {
        "customPlotOptions": {},
        "displayType": "table",
        "pivotAggregation": null,
        "pivotColumns": null,
        "xColumns": null,
        "yColumns": null
       },
       "removedWidgets": [],
       "schema": [
        {
         "metadata": "{}",
         "name": "department",
         "type": "\"string\""
        },
        {
         "metadata": "{}",
         "name": "avg_age",
         "type": "\"double\""
        }
       ],
       "type": "table"
      }
     },
     "output_type": "display_data"
    }
   ],
   "source": [
    "avg_age_employee = employee_with_date_df.groupBy('department').agg(avg(\"age\").alias('avg_age'))\n",
    "display(avg_age_employee)"
   ]
  },
  {
   "cell_type": "code",
   "execution_count": 0,
   "metadata": {
    "application/vnd.databricks.v1+cell": {
     "cellMetadata": {
      "byteLimit": 2048000,
      "rowLimit": 10000
     },
     "inputWidgets": {},
     "nuid": "704bbbbf-79db-409e-9120-724707a12d4f",
     "showTitle": false,
     "title": ""
    }
   },
   "outputs": [],
   "source": [
    "employee_with_date_df.write.format(\"parquet\").mode(\"overwrite\").option(\"replaceWhere\", \"load_date = '2024-04-16'\").save(\"/FileStore/assignments/gold/employee/table_name\")"
   ]
  },
  {
   "cell_type": "code",
   "execution_count": 0,
   "metadata": {
    "application/vnd.databricks.v1+cell": {
     "cellMetadata": {
      "byteLimit": 2048000,
      "rowLimit": 10000
     },
     "inputWidgets": {},
     "nuid": "51acf312-c29e-4f64-9bc9-994f0991a274",
     "showTitle": false,
     "title": ""
    }
   },
   "outputs": [
    {
     "output_type": "display_data",
     "data": {
      "text/html": [
       "<style scoped>\n",
       "  .table-result-container {\n",
       "    max-height: 300px;\n",
       "    overflow: auto;\n",
       "  }\n",
       "  table, th, td {\n",
       "    border: 1px solid black;\n",
       "    border-collapse: collapse;\n",
       "  }\n",
       "  th, td {\n",
       "    padding: 5px;\n",
       "  }\n",
       "  th {\n",
       "    text-align: left;\n",
       "  }\n",
       "</style><div class='table-result-container'><table class='table-result'><thead style='background-color: white'><tr><th>employeeid</th><th>employeename</th><th>department</th><th>country</th><th>salary</th><th>age</th><th>load_date</th></tr></thead><tbody><tr><td>1</td><td>James</td><td>D101</td><td>IN</td><td>9000</td><td>25</td><td>2024-04-16</td></tr><tr><td>2</td><td>Michel</td><td>D102</td><td>SA</td><td>8000</td><td>26</td><td>2024-04-16</td></tr><tr><td>3</td><td>James son</td><td>D101</td><td>IN</td><td>10000</td><td>35</td><td>2024-04-16</td></tr><tr><td>4</td><td>Robert</td><td>D103</td><td>MY</td><td>11000</td><td>34</td><td>2024-04-16</td></tr><tr><td>5</td><td>Scott</td><td>D104</td><td>MA</td><td>6000</td><td>36</td><td>2024-04-16</td></tr><tr><td>6</td><td>Gen</td><td>D105</td><td>JA</td><td>21345</td><td>24</td><td>2024-04-16</td></tr><tr><td>7</td><td>John</td><td>D102</td><td>MY</td><td>87654</td><td>40</td><td>2024-04-16</td></tr><tr><td>8</td><td>Maria</td><td>D105</td><td>SA</td><td>38144</td><td>38</td><td>2024-04-16</td></tr><tr><td>9</td><td>Soffy</td><td>D103</td><td>IN</td><td>23456</td><td>29</td><td>2024-04-16</td></tr><tr><td>10</td><td>Amy</td><td>D103</td><td>CN</td><td>21345</td><td>24</td><td>2024-04-16</td></tr></tbody></table></div>"
      ]
     },
     "metadata": {
      "application/vnd.databricks.v1+output": {
       "addedWidgets": {},
       "aggData": [],
       "aggError": "",
       "aggOverflow": false,
       "aggSchema": [],
       "aggSeriesLimitReached": false,
       "aggType": "",
       "arguments": {},
       "columnCustomDisplayInfos": {},
       "data": [
        [
         1,
         "James",
         "D101",
         "IN",
         9000,
         25,
         "2024-04-16"
        ],
        [
         2,
         "Michel",
         "D102",
         "SA",
         8000,
         26,
         "2024-04-16"
        ],
        [
         3,
         "James son",
         "D101",
         "IN",
         10000,
         35,
         "2024-04-16"
        ],
        [
         4,
         "Robert",
         "D103",
         "MY",
         11000,
         34,
         "2024-04-16"
        ],
        [
         5,
         "Scott",
         "D104",
         "MA",
         6000,
         36,
         "2024-04-16"
        ],
        [
         6,
         "Gen",
         "D105",
         "JA",
         21345,
         24,
         "2024-04-16"
        ],
        [
         7,
         "John",
         "D102",
         "MY",
         87654,
         40,
         "2024-04-16"
        ],
        [
         8,
         "Maria",
         "D105",
         "SA",
         38144,
         38,
         "2024-04-16"
        ],
        [
         9,
         "Soffy",
         "D103",
         "IN",
         23456,
         29,
         "2024-04-16"
        ],
        [
         10,
         "Amy",
         "D103",
         "CN",
         21345,
         24,
         "2024-04-16"
        ]
       ],
       "datasetInfos": [],
       "dbfsResultPath": null,
       "isJsonSchema": true,
       "metadata": {},
       "overflow": false,
       "plotOptions": {
        "customPlotOptions": {},
        "displayType": "table",
        "pivotAggregation": null,
        "pivotColumns": null,
        "xColumns": null,
        "yColumns": null
       },
       "removedWidgets": [],
       "schema": [
        {
         "metadata": "{}",
         "name": "employeeid",
         "type": "\"integer\""
        },
        {
         "metadata": "{}",
         "name": "employeename",
         "type": "\"string\""
        },
        {
         "metadata": "{}",
         "name": "department",
         "type": "\"string\""
        },
        {
         "metadata": "{}",
         "name": "country",
         "type": "\"string\""
        },
        {
         "metadata": "{}",
         "name": "salary",
         "type": "\"integer\""
        },
        {
         "metadata": "{}",
         "name": "age",
         "type": "\"integer\""
        },
        {
         "metadata": "{}",
         "name": "load_date",
         "type": "\"date\""
        }
       ],
       "type": "table"
      }
     },
     "output_type": "display_data"
    }
   ],
   "source": [
    "test_df = spark.read.parquet('dbfs:/FileStore/assignments/gold/employee/table_name/')\n",
    "display(test_df)"
   ]
  }
 ],
 "metadata": {
  "application/vnd.databricks.v1+notebook": {
   "dashboards": [],
   "language": "python",
   "notebookMetadata": {
    "pythonIndentUnit": 4
   },
   "notebookName": "employee_silver_to_gold",
   "widgets": {}
  }
 },
 "nbformat": 4,
 "nbformat_minor": 0
}
