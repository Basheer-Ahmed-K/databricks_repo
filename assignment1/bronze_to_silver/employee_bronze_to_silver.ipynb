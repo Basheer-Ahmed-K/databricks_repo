{
 "cells": [
  {
   "cell_type": "code",
   "execution_count": 0,
   "metadata": {
    "application/vnd.databricks.v1+cell": {
     "cellMetadata": {
      "byteLimit": 2048000,
      "rowLimit": 10000
     },
     "inputWidgets": {},
     "nuid": "4bd4eee1-82ae-4884-91f0-63e77c977f7f",
     "showTitle": false,
     "title": ""
    }
   },
   "outputs": [],
   "source": [
    "from pyspark.sql.types import StructType, StructField, StringType, IntegerType"
   ]
  },
  {
   "cell_type": "code",
   "execution_count": 0,
   "metadata": {
    "application/vnd.databricks.v1+cell": {
     "cellMetadata": {
      "byteLimit": 2048000,
      "rowLimit": 10000
     },
     "inputWidgets": {},
     "nuid": "38a21b32-e9ea-4e70-a2ee-c2b32c1a477e",
     "showTitle": false,
     "title": ""
    }
   },
   "outputs": [
    {
     "output_type": "stream",
     "name": "stdout",
     "output_type": "stream",
     "text": [
      "Out[95]: <function __main__.camel_to_snake_case(df)>"
     ]
    }
   ],
   "source": [
    "%run /Users/ba184279@gmail.com/assignment/assignment1/source_to_bronze/utils"
   ]
  },
  {
   "cell_type": "code",
   "execution_count": 0,
   "metadata": {
    "application/vnd.databricks.v1+cell": {
     "cellMetadata": {
      "byteLimit": 2048000,
      "rowLimit": 10000
     },
     "inputWidgets": {},
     "nuid": "05546def-ab5a-40e8-bb81-d9aedfe372b2",
     "showTitle": true,
     "title": "Employee Schema"
    }
   },
   "outputs": [],
   "source": [
    "# EmployeeID\tEmployeeName\tDepartment\tCountry\tSalary\tAge\n",
    "employee_custom_schema = StructType([\n",
    "    StructField('EmployeeID', IntegerType(), True),\n",
    "    StructField('EmployeeName', StringType(), True),\n",
    "    StructField('Department', StringType(), True),\n",
    "    StructField('Country', StringType(), True),\n",
    "    StructField('Salary', IntegerType(), True),\n",
    "    StructField('Age', IntegerType(), True)\n",
    "])"
   ]
  },
  {
   "cell_type": "code",
   "execution_count": 0,
   "metadata": {
    "application/vnd.databricks.v1+cell": {
     "cellMetadata": {
      "byteLimit": 2048000,
      "rowLimit": 10000
     },
     "inputWidgets": {},
     "nuid": "638707f0-5a57-49f6-952d-bcd5e6e50360",
     "showTitle": true,
     "title": "Country Schema"
    }
   },
   "outputs": [],
   "source": [
    "# CountryCode\tCountryName\n",
    "country_custom_schema = StructType([\n",
    "    StructField('CountryCode', StringType(), True),\n",
    "    StructField('CountryName', StringType(), True)\n",
    "])"
   ]
  },
  {
   "cell_type": "code",
   "execution_count": 0,
   "metadata": {
    "application/vnd.databricks.v1+cell": {
     "cellMetadata": {
      "byteLimit": 2048000,
      "rowLimit": 10000
     },
     "inputWidgets": {},
     "nuid": "dcff374a-65c6-4753-8930-0e2516303d5e",
     "showTitle": true,
     "title": "Department Schema"
    }
   },
   "outputs": [],
   "source": [
    "# DepartmentID\tDepartmentName\n",
    "department_custom_schema = StructType([\n",
    "    StructField('DepartmentID', StringType(), True),\n",
    "    StructField('DepartmentName', StringType(), True)\n",
    "])"
   ]
  },
  {
   "cell_type": "markdown",
   "metadata": {
    "application/vnd.databricks.v1+cell": {
     "cellMetadata": {
      "byteLimit": 2048000,
      "rowLimit": 10000
     },
     "inputWidgets": {},
     "nuid": "523756b9-7813-466f-89fe-1cc5e9d56a22",
     "showTitle": false,
     "title": ""
    }
   },
   "source": [
    "## Creating Dataframe using Custom Schema"
   ]
  },
  {
   "cell_type": "code",
   "execution_count": 0,
   "metadata": {
    "application/vnd.databricks.v1+cell": {
     "cellMetadata": {
      "byteLimit": 2048000,
      "rowLimit": 10000
     },
     "inputWidgets": {},
     "nuid": "a11ea1a4-f68f-40f4-9b4a-aac39c78d4c4",
     "showTitle": false,
     "title": ""
    }
   },
   "outputs": [],
   "source": [
    "employee_csv_path = '''dbfs:/FileStore/assignments/source_to_bronze/employee/part-00000-tid-4147078833494815971-b342c1bd-1fa5-4381-b0a9-cf13656d4014-35-1-c000.csv'''\n",
    "country_csv_path = '''dbfs:/FileStore/assignments/source_to_bronze/country/part-00000-tid-2209771695011875465-8c5e33ab-7eab-477f-9ccf-e9d30663a02d-37-1-c000.csv'''\n",
    "department_csv_path = '''dbfs:/FileStore/assignments/source_to_bronze/department/part-00000-tid-5778909917105095575-026680bc-bb7a-4dcb-9968-a77d1a6bc66a-36-1-c000.csv'''"
   ]
  },
  {
   "cell_type": "code",
   "execution_count": 0,
   "metadata": {
    "application/vnd.databricks.v1+cell": {
     "cellMetadata": {
      "byteLimit": 2048000,
      "rowLimit": 10000
     },
     "inputWidgets": {},
     "nuid": "d2e88e73-9349-40c5-84b6-39735b0bbefb",
     "showTitle": false,
     "title": ""
    }
   },
   "outputs": [],
   "source": [
    "employee_df = read_with_custom_schema(employee_csv_path,employee_custom_schema)\n",
    "country_df = read_with_custom_schema_format(country_csv_path, country_custom_schema)\n",
    "department_df = read_with_custom_schema(department_csv_path, department_custom_schema)"
   ]
  },
  {
   "cell_type": "code",
   "execution_count": 0,
   "metadata": {
    "application/vnd.databricks.v1+cell": {
     "cellMetadata": {
      "byteLimit": 2048000,
      "rowLimit": 10000
     },
     "inputWidgets": {},
     "nuid": "7c410028-8282-4f44-82cc-7fe63df75fd4",
     "showTitle": false,
     "title": ""
    }
   },
   "outputs": [
    {
     "output_type": "display_data",
     "data": {
      "text/html": [
       "<style scoped>\n",
       "  .table-result-container {\n",
       "    max-height: 300px;\n",
       "    overflow: auto;\n",
       "  }\n",
       "  table, th, td {\n",
       "    border: 1px solid black;\n",
       "    border-collapse: collapse;\n",
       "  }\n",
       "  th, td {\n",
       "    padding: 5px;\n",
       "  }\n",
       "  th {\n",
       "    text-align: left;\n",
       "  }\n",
       "</style><div class='table-result-container'><table class='table-result'><thead style='background-color: white'><tr><th>EmployeeID</th><th>EmployeeName</th><th>Department</th><th>Country</th><th>Salary</th><th>Age</th></tr></thead><tbody><tr><td>1</td><td>James</td><td>D101</td><td>IN</td><td>9000</td><td>25</td></tr><tr><td>2</td><td>Michel</td><td>D102</td><td>SA</td><td>8000</td><td>26</td></tr><tr><td>3</td><td>James son</td><td>D101</td><td>IN</td><td>10000</td><td>35</td></tr><tr><td>4</td><td>Robert</td><td>D103</td><td>MY</td><td>11000</td><td>34</td></tr><tr><td>5</td><td>Scott</td><td>D104</td><td>MA</td><td>6000</td><td>36</td></tr><tr><td>6</td><td>Gen</td><td>D105</td><td>JA</td><td>21345</td><td>24</td></tr><tr><td>7</td><td>John</td><td>D102</td><td>MY</td><td>87654</td><td>40</td></tr><tr><td>8</td><td>Maria</td><td>D105</td><td>SA</td><td>38144</td><td>38</td></tr><tr><td>9</td><td>Soffy</td><td>D103</td><td>IN</td><td>23456</td><td>29</td></tr><tr><td>10</td><td>Amy</td><td>D103</td><td>CN</td><td>21345</td><td>24</td></tr></tbody></table></div>"
      ]
     },
     "metadata": {
      "application/vnd.databricks.v1+output": {
       "addedWidgets": {},
       "aggData": [],
       "aggError": "",
       "aggOverflow": false,
       "aggSchema": [],
       "aggSeriesLimitReached": false,
       "aggType": "",
       "arguments": {},
       "columnCustomDisplayInfos": {},
       "data": [
        [
         1,
         "James",
         "D101",
         "IN",
         9000,
         25
        ],
        [
         2,
         "Michel",
         "D102",
         "SA",
         8000,
         26
        ],
        [
         3,
         "James son",
         "D101",
         "IN",
         10000,
         35
        ],
        [
         4,
         "Robert",
         "D103",
         "MY",
         11000,
         34
        ],
        [
         5,
         "Scott",
         "D104",
         "MA",
         6000,
         36
        ],
        [
         6,
         "Gen",
         "D105",
         "JA",
         21345,
         24
        ],
        [
         7,
         "John",
         "D102",
         "MY",
         87654,
         40
        ],
        [
         8,
         "Maria",
         "D105",
         "SA",
         38144,
         38
        ],
        [
         9,
         "Soffy",
         "D103",
         "IN",
         23456,
         29
        ],
        [
         10,
         "Amy",
         "D103",
         "CN",
         21345,
         24
        ]
       ],
       "datasetInfos": [],
       "dbfsResultPath": null,
       "isJsonSchema": true,
       "metadata": {},
       "overflow": false,
       "plotOptions": {
        "customPlotOptions": {},
        "displayType": "table",
        "pivotAggregation": null,
        "pivotColumns": null,
        "xColumns": null,
        "yColumns": null
       },
       "removedWidgets": [],
       "schema": [
        {
         "metadata": "{}",
         "name": "EmployeeID",
         "type": "\"integer\""
        },
        {
         "metadata": "{}",
         "name": "EmployeeName",
         "type": "\"string\""
        },
        {
         "metadata": "{}",
         "name": "Department",
         "type": "\"string\""
        },
        {
         "metadata": "{}",
         "name": "Country",
         "type": "\"string\""
        },
        {
         "metadata": "{}",
         "name": "Salary",
         "type": "\"integer\""
        },
        {
         "metadata": "{}",
         "name": "Age",
         "type": "\"integer\""
        }
       ],
       "type": "table"
      }
     },
     "output_type": "display_data"
    },
    {
     "output_type": "display_data",
     "data": {
      "text/html": [
       "<style scoped>\n",
       "  .table-result-container {\n",
       "    max-height: 300px;\n",
       "    overflow: auto;\n",
       "  }\n",
       "  table, th, td {\n",
       "    border: 1px solid black;\n",
       "    border-collapse: collapse;\n",
       "  }\n",
       "  th, td {\n",
       "    padding: 5px;\n",
       "  }\n",
       "  th {\n",
       "    text-align: left;\n",
       "  }\n",
       "</style><div class='table-result-container'><table class='table-result'><thead style='background-color: white'><tr><th>CountryCode</th><th>CountryName</th></tr></thead><tbody><tr><td>CN</td><td>China</td></tr><tr><td>IN</td><td>India</td></tr><tr><td>SA</td><td>South Africa</td></tr><tr><td>JA</td><td>Japan</td></tr><tr><td>MY</td><td>Malaysia</td></tr><tr><td>MA</td><td>Morocco</td></tr></tbody></table></div>"
      ]
     },
     "metadata": {
      "application/vnd.databricks.v1+output": {
       "addedWidgets": {},
       "aggData": [],
       "aggError": "",
       "aggOverflow": false,
       "aggSchema": [],
       "aggSeriesLimitReached": false,
       "aggType": "",
       "arguments": {},
       "columnCustomDisplayInfos": {},
       "data": [
        [
         "CN",
         "China"
        ],
        [
         "IN",
         "India"
        ],
        [
         "SA",
         "South Africa"
        ],
        [
         "JA",
         "Japan"
        ],
        [
         "MY",
         "Malaysia"
        ],
        [
         "MA",
         "Morocco"
        ]
       ],
       "datasetInfos": [],
       "dbfsResultPath": null,
       "isJsonSchema": true,
       "metadata": {},
       "overflow": false,
       "plotOptions": {
        "customPlotOptions": {},
        "displayType": "table",
        "pivotAggregation": null,
        "pivotColumns": null,
        "xColumns": null,
        "yColumns": null
       },
       "removedWidgets": [],
       "schema": [
        {
         "metadata": "{}",
         "name": "CountryCode",
         "type": "\"string\""
        },
        {
         "metadata": "{}",
         "name": "CountryName",
         "type": "\"string\""
        }
       ],
       "type": "table"
      }
     },
     "output_type": "display_data"
    },
    {
     "output_type": "display_data",
     "data": {
      "text/html": [
       "<style scoped>\n",
       "  .table-result-container {\n",
       "    max-height: 300px;\n",
       "    overflow: auto;\n",
       "  }\n",
       "  table, th, td {\n",
       "    border: 1px solid black;\n",
       "    border-collapse: collapse;\n",
       "  }\n",
       "  th, td {\n",
       "    padding: 5px;\n",
       "  }\n",
       "  th {\n",
       "    text-align: left;\n",
       "  }\n",
       "</style><div class='table-result-container'><table class='table-result'><thead style='background-color: white'><tr><th>DepartmentID</th><th>DepartmentName</th></tr></thead><tbody><tr><td>D101</td><td>Sales</td></tr><tr><td>D102</td><td>Marketing</td></tr><tr><td>D103</td><td>Finance</td></tr><tr><td>D104</td><td>Support</td></tr><tr><td>D105</td><td>HR</td></tr></tbody></table></div>"
      ]
     },
     "metadata": {
      "application/vnd.databricks.v1+output": {
       "addedWidgets": {},
       "aggData": [],
       "aggError": "",
       "aggOverflow": false,
       "aggSchema": [],
       "aggSeriesLimitReached": false,
       "aggType": "",
       "arguments": {},
       "columnCustomDisplayInfos": {},
       "data": [
        [
         "D101",
         "Sales"
        ],
        [
         "D102",
         "Marketing"
        ],
        [
         "D103",
         "Finance"
        ],
        [
         "D104",
         "Support"
        ],
        [
         "D105",
         "HR"
        ]
       ],
       "datasetInfos": [],
       "dbfsResultPath": null,
       "isJsonSchema": true,
       "metadata": {},
       "overflow": false,
       "plotOptions": {
        "customPlotOptions": {},
        "displayType": "table",
        "pivotAggregation": null,
        "pivotColumns": null,
        "xColumns": null,
        "yColumns": null
       },
       "removedWidgets": [],
       "schema": [
        {
         "metadata": "{}",
         "name": "DepartmentID",
         "type": "\"string\""
        },
        {
         "metadata": "{}",
         "name": "DepartmentName",
         "type": "\"string\""
        }
       ],
       "type": "table"
      }
     },
     "output_type": "display_data"
    }
   ],
   "source": [
    "display(employee_df)\n",
    "display(country_df)\n",
    "display(department_df)"
   ]
  },
  {
   "cell_type": "code",
   "execution_count": 0,
   "metadata": {
    "application/vnd.databricks.v1+cell": {
     "cellMetadata": {
      "byteLimit": 2048000,
      "rowLimit": 10000
     },
     "inputWidgets": {},
     "nuid": "13bebfe7-fcba-48a5-a0bb-76162ef3f526",
     "showTitle": false,
     "title": ""
    }
   },
   "outputs": [
    {
     "output_type": "display_data",
     "data": {
      "text/html": [
       "<style scoped>\n",
       "  .table-result-container {\n",
       "    max-height: 300px;\n",
       "    overflow: auto;\n",
       "  }\n",
       "  table, th, td {\n",
       "    border: 1px solid black;\n",
       "    border-collapse: collapse;\n",
       "  }\n",
       "  th, td {\n",
       "    padding: 5px;\n",
       "  }\n",
       "  th {\n",
       "    text-align: left;\n",
       "  }\n",
       "</style><div class='table-result-container'><table class='table-result'><thead style='background-color: white'><tr><th>employeeid</th><th>employeename</th><th>department</th><th>country</th><th>salary</th><th>age</th></tr></thead><tbody><tr><td>1</td><td>James</td><td>D101</td><td>IN</td><td>9000</td><td>25</td></tr><tr><td>2</td><td>Michel</td><td>D102</td><td>SA</td><td>8000</td><td>26</td></tr><tr><td>3</td><td>James son</td><td>D101</td><td>IN</td><td>10000</td><td>35</td></tr><tr><td>4</td><td>Robert</td><td>D103</td><td>MY</td><td>11000</td><td>34</td></tr><tr><td>5</td><td>Scott</td><td>D104</td><td>MA</td><td>6000</td><td>36</td></tr><tr><td>6</td><td>Gen</td><td>D105</td><td>JA</td><td>21345</td><td>24</td></tr><tr><td>7</td><td>John</td><td>D102</td><td>MY</td><td>87654</td><td>40</td></tr><tr><td>8</td><td>Maria</td><td>D105</td><td>SA</td><td>38144</td><td>38</td></tr><tr><td>9</td><td>Soffy</td><td>D103</td><td>IN</td><td>23456</td><td>29</td></tr><tr><td>10</td><td>Amy</td><td>D103</td><td>CN</td><td>21345</td><td>24</td></tr></tbody></table></div>"
      ]
     },
     "metadata": {
      "application/vnd.databricks.v1+output": {
       "addedWidgets": {},
       "aggData": [],
       "aggError": "",
       "aggOverflow": false,
       "aggSchema": [],
       "aggSeriesLimitReached": false,
       "aggType": "",
       "arguments": {},
       "columnCustomDisplayInfos": {},
       "data": [
        [
         1,
         "James",
         "D101",
         "IN",
         9000,
         25
        ],
        [
         2,
         "Michel",
         "D102",
         "SA",
         8000,
         26
        ],
        [
         3,
         "James son",
         "D101",
         "IN",
         10000,
         35
        ],
        [
         4,
         "Robert",
         "D103",
         "MY",
         11000,
         34
        ],
        [
         5,
         "Scott",
         "D104",
         "MA",
         6000,
         36
        ],
        [
         6,
         "Gen",
         "D105",
         "JA",
         21345,
         24
        ],
        [
         7,
         "John",
         "D102",
         "MY",
         87654,
         40
        ],
        [
         8,
         "Maria",
         "D105",
         "SA",
         38144,
         38
        ],
        [
         9,
         "Soffy",
         "D103",
         "IN",
         23456,
         29
        ],
        [
         10,
         "Amy",
         "D103",
         "CN",
         21345,
         24
        ]
       ],
       "datasetInfos": [],
       "dbfsResultPath": null,
       "isJsonSchema": true,
       "metadata": {},
       "overflow": false,
       "plotOptions": {
        "customPlotOptions": {},
        "displayType": "table",
        "pivotAggregation": null,
        "pivotColumns": null,
        "xColumns": null,
        "yColumns": null
       },
       "removedWidgets": [],
       "schema": [
        {
         "metadata": "{}",
         "name": "employeeid",
         "type": "\"integer\""
        },
        {
         "metadata": "{}",
         "name": "employeename",
         "type": "\"string\""
        },
        {
         "metadata": "{}",
         "name": "department",
         "type": "\"string\""
        },
        {
         "metadata": "{}",
         "name": "country",
         "type": "\"string\""
        },
        {
         "metadata": "{}",
         "name": "salary",
         "type": "\"integer\""
        },
        {
         "metadata": "{}",
         "name": "age",
         "type": "\"integer\""
        }
       ],
       "type": "table"
      }
     },
     "output_type": "display_data"
    }
   ],
   "source": [
    "employee_snake_case_df = camel_to_snake_case(employee_df)\n",
    "display(employee_snake_case_df)"
   ]
  },
  {
   "cell_type": "code",
   "execution_count": 0,
   "metadata": {
    "application/vnd.databricks.v1+cell": {
     "cellMetadata": {
      "byteLimit": 2048000,
      "rowLimit": 10000
     },
     "inputWidgets": {},
     "nuid": "31a078b4-4921-45d6-958d-80924b9a7653",
     "showTitle": false,
     "title": ""
    }
   },
   "outputs": [
    {
     "output_type": "display_data",
     "data": {
      "text/html": [
       "<style scoped>\n",
       "  .table-result-container {\n",
       "    max-height: 300px;\n",
       "    overflow: auto;\n",
       "  }\n",
       "  table, th, td {\n",
       "    border: 1px solid black;\n",
       "    border-collapse: collapse;\n",
       "  }\n",
       "  th, td {\n",
       "    padding: 5px;\n",
       "  }\n",
       "  th {\n",
       "    text-align: left;\n",
       "  }\n",
       "</style><div class='table-result-container'><table class='table-result'><thead style='background-color: white'><tr><th>departmentid</th><th>departmentname</th></tr></thead><tbody><tr><td>D101</td><td>Sales</td></tr><tr><td>D102</td><td>Marketing</td></tr><tr><td>D103</td><td>Finance</td></tr><tr><td>D104</td><td>Support</td></tr><tr><td>D105</td><td>HR</td></tr></tbody></table></div>"
      ]
     },
     "metadata": {
      "application/vnd.databricks.v1+output": {
       "addedWidgets": {},
       "aggData": [],
       "aggError": "",
       "aggOverflow": false,
       "aggSchema": [],
       "aggSeriesLimitReached": false,
       "aggType": "",
       "arguments": {},
       "columnCustomDisplayInfos": {},
       "data": [
        [
         "D101",
         "Sales"
        ],
        [
         "D102",
         "Marketing"
        ],
        [
         "D103",
         "Finance"
        ],
        [
         "D104",
         "Support"
        ],
        [
         "D105",
         "HR"
        ]
       ],
       "datasetInfos": [],
       "dbfsResultPath": null,
       "isJsonSchema": true,
       "metadata": {},
       "overflow": false,
       "plotOptions": {
        "customPlotOptions": {},
        "displayType": "table",
        "pivotAggregation": null,
        "pivotColumns": null,
        "xColumns": null,
        "yColumns": null
       },
       "removedWidgets": [],
       "schema": [
        {
         "metadata": "{}",
         "name": "departmentid",
         "type": "\"string\""
        },
        {
         "metadata": "{}",
         "name": "departmentname",
         "type": "\"string\""
        }
       ],
       "type": "table"
      }
     },
     "output_type": "display_data"
    }
   ],
   "source": [
    "department_snake_case_df = camel_to_snake_case(department_df)\n",
    "display(department_snake_case_df)"
   ]
  },
  {
   "cell_type": "code",
   "execution_count": 0,
   "metadata": {
    "application/vnd.databricks.v1+cell": {
     "cellMetadata": {
      "byteLimit": 2048000,
      "rowLimit": 10000
     },
     "inputWidgets": {},
     "nuid": "f0e0633b-68c6-4528-ad16-cd627fc72ffa",
     "showTitle": false,
     "title": ""
    }
   },
   "outputs": [
    {
     "output_type": "display_data",
     "data": {
      "text/html": [
       "<style scoped>\n",
       "  .table-result-container {\n",
       "    max-height: 300px;\n",
       "    overflow: auto;\n",
       "  }\n",
       "  table, th, td {\n",
       "    border: 1px solid black;\n",
       "    border-collapse: collapse;\n",
       "  }\n",
       "  th, td {\n",
       "    padding: 5px;\n",
       "  }\n",
       "  th {\n",
       "    text-align: left;\n",
       "  }\n",
       "</style><div class='table-result-container'><table class='table-result'><thead style='background-color: white'><tr><th>countrycode</th><th>countryname</th></tr></thead><tbody><tr><td>CN</td><td>China</td></tr><tr><td>IN</td><td>India</td></tr><tr><td>SA</td><td>South Africa</td></tr><tr><td>JA</td><td>Japan</td></tr><tr><td>MY</td><td>Malaysia</td></tr><tr><td>MA</td><td>Morocco</td></tr></tbody></table></div>"
      ]
     },
     "metadata": {
      "application/vnd.databricks.v1+output": {
       "addedWidgets": {},
       "aggData": [],
       "aggError": "",
       "aggOverflow": false,
       "aggSchema": [],
       "aggSeriesLimitReached": false,
       "aggType": "",
       "arguments": {},
       "columnCustomDisplayInfos": {},
       "data": [
        [
         "CN",
         "China"
        ],
        [
         "IN",
         "India"
        ],
        [
         "SA",
         "South Africa"
        ],
        [
         "JA",
         "Japan"
        ],
        [
         "MY",
         "Malaysia"
        ],
        [
         "MA",
         "Morocco"
        ]
       ],
       "datasetInfos": [],
       "dbfsResultPath": null,
       "isJsonSchema": true,
       "metadata": {},
       "overflow": false,
       "plotOptions": {
        "customPlotOptions": {},
        "displayType": "table",
        "pivotAggregation": null,
        "pivotColumns": null,
        "xColumns": null,
        "yColumns": null
       },
       "removedWidgets": [],
       "schema": [
        {
         "metadata": "{}",
         "name": "countrycode",
         "type": "\"string\""
        },
        {
         "metadata": "{}",
         "name": "countryname",
         "type": "\"string\""
        }
       ],
       "type": "table"
      }
     },
     "output_type": "display_data"
    }
   ],
   "source": [
    "country_snake_case_df = camel_to_snake_case(country_df)\n",
    "display(country_snake_case_df)"
   ]
  },
  {
   "cell_type": "code",
   "execution_count": 0,
   "metadata": {
    "application/vnd.databricks.v1+cell": {
     "cellMetadata": {
      "byteLimit": 2048000,
      "rowLimit": 10000
     },
     "inputWidgets": {},
     "nuid": "21baa714-3890-4d9d-945d-4853eff2ad89",
     "showTitle": true,
     "title": "Adding load_date in df"
    }
   },
   "outputs": [
    {
     "output_type": "display_data",
     "data": {
      "text/html": [
       "<style scoped>\n",
       "  .table-result-container {\n",
       "    max-height: 300px;\n",
       "    overflow: auto;\n",
       "  }\n",
       "  table, th, td {\n",
       "    border: 1px solid black;\n",
       "    border-collapse: collapse;\n",
       "  }\n",
       "  th, td {\n",
       "    padding: 5px;\n",
       "  }\n",
       "  th {\n",
       "    text-align: left;\n",
       "  }\n",
       "</style><div class='table-result-container'><table class='table-result'><thead style='background-color: white'><tr><th>employeeid</th><th>employeename</th><th>department</th><th>country</th><th>salary</th><th>age</th><th>load_date</th></tr></thead><tbody><tr><td>1</td><td>James</td><td>D101</td><td>IN</td><td>9000</td><td>25</td><td>2024-04-16</td></tr><tr><td>2</td><td>Michel</td><td>D102</td><td>SA</td><td>8000</td><td>26</td><td>2024-04-16</td></tr><tr><td>3</td><td>James son</td><td>D101</td><td>IN</td><td>10000</td><td>35</td><td>2024-04-16</td></tr><tr><td>4</td><td>Robert</td><td>D103</td><td>MY</td><td>11000</td><td>34</td><td>2024-04-16</td></tr><tr><td>5</td><td>Scott</td><td>D104</td><td>MA</td><td>6000</td><td>36</td><td>2024-04-16</td></tr><tr><td>6</td><td>Gen</td><td>D105</td><td>JA</td><td>21345</td><td>24</td><td>2024-04-16</td></tr><tr><td>7</td><td>John</td><td>D102</td><td>MY</td><td>87654</td><td>40</td><td>2024-04-16</td></tr><tr><td>8</td><td>Maria</td><td>D105</td><td>SA</td><td>38144</td><td>38</td><td>2024-04-16</td></tr><tr><td>9</td><td>Soffy</td><td>D103</td><td>IN</td><td>23456</td><td>29</td><td>2024-04-16</td></tr><tr><td>10</td><td>Amy</td><td>D103</td><td>CN</td><td>21345</td><td>24</td><td>2024-04-16</td></tr></tbody></table></div>"
      ]
     },
     "metadata": {
      "application/vnd.databricks.v1+output": {
       "addedWidgets": {},
       "aggData": [],
       "aggError": "",
       "aggOverflow": false,
       "aggSchema": [],
       "aggSeriesLimitReached": false,
       "aggType": "",
       "arguments": {},
       "columnCustomDisplayInfos": {},
       "data": [
        [
         1,
         "James",
         "D101",
         "IN",
         9000,
         25,
         "2024-04-16"
        ],
        [
         2,
         "Michel",
         "D102",
         "SA",
         8000,
         26,
         "2024-04-16"
        ],
        [
         3,
         "James son",
         "D101",
         "IN",
         10000,
         35,
         "2024-04-16"
        ],
        [
         4,
         "Robert",
         "D103",
         "MY",
         11000,
         34,
         "2024-04-16"
        ],
        [
         5,
         "Scott",
         "D104",
         "MA",
         6000,
         36,
         "2024-04-16"
        ],
        [
         6,
         "Gen",
         "D105",
         "JA",
         21345,
         24,
         "2024-04-16"
        ],
        [
         7,
         "John",
         "D102",
         "MY",
         87654,
         40,
         "2024-04-16"
        ],
        [
         8,
         "Maria",
         "D105",
         "SA",
         38144,
         38,
         "2024-04-16"
        ],
        [
         9,
         "Soffy",
         "D103",
         "IN",
         23456,
         29,
         "2024-04-16"
        ],
        [
         10,
         "Amy",
         "D103",
         "CN",
         21345,
         24,
         "2024-04-16"
        ]
       ],
       "datasetInfos": [],
       "dbfsResultPath": null,
       "isJsonSchema": true,
       "metadata": {},
       "overflow": false,
       "plotOptions": {
        "customPlotOptions": {},
        "displayType": "table",
        "pivotAggregation": null,
        "pivotColumns": null,
        "xColumns": null,
        "yColumns": null
       },
       "removedWidgets": [],
       "schema": [
        {
         "metadata": "{}",
         "name": "employeeid",
         "type": "\"integer\""
        },
        {
         "metadata": "{}",
         "name": "employeename",
         "type": "\"string\""
        },
        {
         "metadata": "{}",
         "name": "department",
         "type": "\"string\""
        },
        {
         "metadata": "{}",
         "name": "country",
         "type": "\"string\""
        },
        {
         "metadata": "{}",
         "name": "salary",
         "type": "\"integer\""
        },
        {
         "metadata": "{}",
         "name": "age",
         "type": "\"integer\""
        },
        {
         "metadata": "{}",
         "name": "load_date",
         "type": "\"date\""
        }
       ],
       "type": "table"
      }
     },
     "output_type": "display_data"
    }
   ],
   "source": [
    "employee_with_date_df = add_current_date(employee_snake_case_df)\n",
    "display(employee_df)"
   ]
  },
  {
   "cell_type": "code",
   "execution_count": 0,
   "metadata": {
    "application/vnd.databricks.v1+cell": {
     "cellMetadata": {
      "byteLimit": 2048000,
      "rowLimit": 10000
     },
     "inputWidgets": {},
     "nuid": "e552779d-6a6d-4a57-902a-c9ec65da72c1",
     "showTitle": false,
     "title": ""
    }
   },
   "outputs": [
    {
     "output_type": "display_data",
     "data": {
      "text/html": [
       "<style scoped>\n",
       "  .table-result-container {\n",
       "    max-height: 300px;\n",
       "    overflow: auto;\n",
       "  }\n",
       "  table, th, td {\n",
       "    border: 1px solid black;\n",
       "    border-collapse: collapse;\n",
       "  }\n",
       "  th, td {\n",
       "    padding: 5px;\n",
       "  }\n",
       "  th {\n",
       "    text-align: left;\n",
       "  }\n",
       "</style><div class='table-result-container'><table class='table-result'><thead style='background-color: white'><tr><th>departmentid</th><th>departmentname</th><th>load_date</th></tr></thead><tbody><tr><td>D101</td><td>Sales</td><td>2024-04-16</td></tr><tr><td>D102</td><td>Marketing</td><td>2024-04-16</td></tr><tr><td>D103</td><td>Finance</td><td>2024-04-16</td></tr><tr><td>D104</td><td>Support</td><td>2024-04-16</td></tr><tr><td>D105</td><td>HR</td><td>2024-04-16</td></tr></tbody></table></div>"
      ]
     },
     "metadata": {
      "application/vnd.databricks.v1+output": {
       "addedWidgets": {},
       "aggData": [],
       "aggError": "",
       "aggOverflow": false,
       "aggSchema": [],
       "aggSeriesLimitReached": false,
       "aggType": "",
       "arguments": {},
       "columnCustomDisplayInfos": {},
       "data": [
        [
         "D101",
         "Sales",
         "2024-04-16"
        ],
        [
         "D102",
         "Marketing",
         "2024-04-16"
        ],
        [
         "D103",
         "Finance",
         "2024-04-16"
        ],
        [
         "D104",
         "Support",
         "2024-04-16"
        ],
        [
         "D105",
         "HR",
         "2024-04-16"
        ]
       ],
       "datasetInfos": [],
       "dbfsResultPath": null,
       "isJsonSchema": true,
       "metadata": {},
       "overflow": false,
       "plotOptions": {
        "customPlotOptions": {},
        "displayType": "table",
        "pivotAggregation": null,
        "pivotColumns": null,
        "xColumns": null,
        "yColumns": null
       },
       "removedWidgets": [],
       "schema": [
        {
         "metadata": "{}",
         "name": "departmentid",
         "type": "\"string\""
        },
        {
         "metadata": "{}",
         "name": "departmentname",
         "type": "\"string\""
        },
        {
         "metadata": "{}",
         "name": "load_date",
         "type": "\"date\""
        }
       ],
       "type": "table"
      }
     },
     "output_type": "display_data"
    }
   ],
   "source": [
    "department_with_date_df = add_current_date(department_snake_case_df)\n",
    "display(department_df)"
   ]
  },
  {
   "cell_type": "code",
   "execution_count": 0,
   "metadata": {
    "application/vnd.databricks.v1+cell": {
     "cellMetadata": {
      "byteLimit": 2048000,
      "rowLimit": 10000
     },
     "inputWidgets": {},
     "nuid": "5b1fd7f1-9235-4e3c-a765-23588a168156",
     "showTitle": false,
     "title": ""
    }
   },
   "outputs": [
    {
     "output_type": "display_data",
     "data": {
      "text/html": [
       "<style scoped>\n",
       "  .table-result-container {\n",
       "    max-height: 300px;\n",
       "    overflow: auto;\n",
       "  }\n",
       "  table, th, td {\n",
       "    border: 1px solid black;\n",
       "    border-collapse: collapse;\n",
       "  }\n",
       "  th, td {\n",
       "    padding: 5px;\n",
       "  }\n",
       "  th {\n",
       "    text-align: left;\n",
       "  }\n",
       "</style><div class='table-result-container'><table class='table-result'><thead style='background-color: white'><tr><th>countrycode</th><th>countryname</th><th>load_date</th></tr></thead><tbody><tr><td>CN</td><td>China</td><td>2024-04-16</td></tr><tr><td>IN</td><td>India</td><td>2024-04-16</td></tr><tr><td>SA</td><td>South Africa</td><td>2024-04-16</td></tr><tr><td>JA</td><td>Japan</td><td>2024-04-16</td></tr><tr><td>MY</td><td>Malaysia</td><td>2024-04-16</td></tr><tr><td>MA</td><td>Morocco</td><td>2024-04-16</td></tr></tbody></table></div>"
      ]
     },
     "metadata": {
      "application/vnd.databricks.v1+output": {
       "addedWidgets": {},
       "aggData": [],
       "aggError": "",
       "aggOverflow": false,
       "aggSchema": [],
       "aggSeriesLimitReached": false,
       "aggType": "",
       "arguments": {},
       "columnCustomDisplayInfos": {},
       "data": [
        [
         "CN",
         "China",
         "2024-04-16"
        ],
        [
         "IN",
         "India",
         "2024-04-16"
        ],
        [
         "SA",
         "South Africa",
         "2024-04-16"
        ],
        [
         "JA",
         "Japan",
         "2024-04-16"
        ],
        [
         "MY",
         "Malaysia",
         "2024-04-16"
        ],
        [
         "MA",
         "Morocco",
         "2024-04-16"
        ]
       ],
       "datasetInfos": [],
       "dbfsResultPath": null,
       "isJsonSchema": true,
       "metadata": {},
       "overflow": false,
       "plotOptions": {
        "customPlotOptions": {},
        "displayType": "table",
        "pivotAggregation": null,
        "pivotColumns": null,
        "xColumns": null,
        "yColumns": null
       },
       "removedWidgets": [],
       "schema": [
        {
         "metadata": "{}",
         "name": "countrycode",
         "type": "\"string\""
        },
        {
         "metadata": "{}",
         "name": "countryname",
         "type": "\"string\""
        },
        {
         "metadata": "{}",
         "name": "load_date",
         "type": "\"date\""
        }
       ],
       "type": "table"
      }
     },
     "output_type": "display_data"
    }
   ],
   "source": [
    "country_with_date_df = add_current_date(country_snake_case_df)\n",
    "display(country_with_date_df)"
   ]
  },
  {
   "cell_type": "code",
   "execution_count": 0,
   "metadata": {
    "application/vnd.databricks.v1+cell": {
     "cellMetadata": {
      "byteLimit": 2048000,
      "rowLimit": 10000
     },
     "inputWidgets": {},
     "nuid": "632eb92a-383c-4473-8cfa-47aa1a54af91",
     "showTitle": true,
     "title": "creating employee_info database"
    }
   },
   "outputs": [
    {
     "output_type": "stream",
     "name": "stdout",
     "output_type": "stream",
     "text": [
      "Out[102]: DataFrame[]"
     ]
    }
   ],
   "source": [
    "# spark.sql('create database employee_info')\n",
    "# spark.sql('use employee_info')"
   ]
  },
  {
   "cell_type": "code",
   "execution_count": 0,
   "metadata": {
    "application/vnd.databricks.v1+cell": {
     "cellMetadata": {
      "byteLimit": 2048000,
      "rowLimit": 10000
     },
     "inputWidgets": {},
     "nuid": "0073b3f4-64b4-4da5-adbb-a5d0600cc8ca",
     "showTitle": false,
     "title": ""
    }
   },
   "outputs": [],
   "source": [
    "# employee_df.write.option('path', 'dbfs:/FileStore/assignments/questoin1/silver/employee_info/dim_employee').saveAsTable('dim_employee')"
   ]
  }
 ],
 "metadata": {
  "application/vnd.databricks.v1+notebook": {
   "dashboards": [],
   "language": "python",
   "notebookMetadata": {
    "mostRecentlyExecutedCommandWithImplicitDF": {
     "commandId": 1491017216616920,
     "dataframes": [
      "_sqldf"
     ]
    },
    "pythonIndentUnit": 4
   },
   "notebookName": "employee_bronze_to_silver",
   "widgets": {}
  }
 },
 "nbformat": 4,
 "nbformat_minor": 0
}
