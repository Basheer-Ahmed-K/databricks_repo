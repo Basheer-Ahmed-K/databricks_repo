{
 "cells": [
  {
   "cell_type": "code",
   "execution_count": 0,
   "metadata": {
    "application/vnd.databricks.v1+cell": {
     "cellMetadata": {
      "byteLimit": 2048000,
      "rowLimit": 10000
     },
     "inputWidgets": {},
     "nuid": "79ce436c-d5a0-45f7-8968-5235d3781966",
     "showTitle": false,
     "title": ""
    }
   },
   "outputs": [],
   "source": [
    "%run ./utils"
   ]
  },
  {
   "cell_type": "code",
   "execution_count": 0,
   "metadata": {
    "application/vnd.databricks.v1+cell": {
     "cellMetadata": {
      "byteLimit": 2048000,
      "rowLimit": 10000
     },
     "inputWidgets": {},
     "nuid": "c3534af0-7cdd-4b0e-9cb0-abb07a75b0b5",
     "showTitle": true,
     "title": "Read Datasets as Dataframe"
    }
   },
   "outputs": [],
   "source": [
    "employee_read_path = 'dbfs:/FileStore/assignments/questoin1/resources/Employee_Q1.csv'\n",
    "department_read_path = 'dbfs:/FileStore/assignments/questoin1/resources/Department_Q1.csv'\n",
    "country_read_path = 'dbfs:/FileStore/assignments/questoin1/resources/Country_Q1.csv'"
   ]
  },
  {
   "cell_type": "code",
   "execution_count": 0,
   "metadata": {
    "application/vnd.databricks.v1+cell": {
     "cellMetadata": {
      "byteLimit": 2048000,
      "rowLimit": 10000
     },
     "inputWidgets": {},
     "nuid": "a99e20f2-17c9-48c9-98b1-556d945b6fcc",
     "showTitle": false,
     "title": ""
    }
   },
   "outputs": [
    {
     "output_type": "stream",
     "name": "stdout",
     "output_type": "stream",
     "text": [
      "+----------+------------+----------+-------+------+---+\n|EmployeeID|EmployeeName|Department|Country|Salary|Age|\n+----------+------------+----------+-------+------+---+\n|         1|       James|      D101|     IN|  9000| 25|\n|         2|      Michel|      D102|     SA|  8000| 26|\n|         3|   James son|      D101|     IN| 10000| 35|\n|         4|      Robert|      D103|     MY| 11000| 34|\n|         5|       Scott|      D104|     MA|  6000| 36|\n|         6|         Gen|      D105|     JA| 21345| 24|\n|         7|        John|      D102|     MY| 87654| 40|\n|         8|       Maria|      D105|     SA| 38144| 38|\n|         9|       Soffy|      D103|     IN| 23456| 29|\n|        10|         Amy|      D103|     CN| 21345| 24|\n+----------+------------+----------+-------+------+---+\n\n+------------+--------------+\n|DepartmentID|DepartmentName|\n+------------+--------------+\n|        D101|         Sales|\n|        D102|     Marketing|\n|        D103|       Finance|\n|        D104|       Support|\n|        D105|            HR|\n+------------+--------------+\n\n+-----------+------------+\n|CountryCode| CountryName|\n+-----------+------------+\n|         CN|       China|\n|         IN|       India|\n|         SA|South Africa|\n|         JA|       Japan|\n|         MY|    Malaysia|\n|         MA|     Morocco|\n+-----------+------------+\n\n"
     ]
    }
   ],
   "source": [
    "employee_df = read_csv(employee_read_path)\n",
    "employee_df.show()\n",
    "department_df = read_csv(department_read_path)\n",
    "department_df.show()\n",
    "country_df = read_csv(country_read_path)\n",
    "country_df.show()"
   ]
  },
  {
   "cell_type": "code",
   "execution_count": 0,
   "metadata": {
    "application/vnd.databricks.v1+cell": {
     "cellMetadata": {
      "byteLimit": 2048000,
      "rowLimit": 10000
     },
     "inputWidgets": {},
     "nuid": "2afadfe0-efe2-4033-a543-f7f755448214",
     "showTitle": true,
     "title": "Write to Location"
    }
   },
   "outputs": [],
   "source": [
    "employee_write_path = 'dbfs:/FileStore/assignments/source_to_bronze/employee'\n",
    "department_write_path = 'dbfs:/FileStore/assignments/source_to_bronze/department'\n",
    "country_write_path = 'dbfs:/FileStore/assignments/source_to_bronze/country'"
   ]
  },
  {
   "cell_type": "code",
   "execution_count": 0,
   "metadata": {
    "application/vnd.databricks.v1+cell": {
     "cellMetadata": {
      "byteLimit": 2048000,
      "rowLimit": 10000
     },
     "inputWidgets": {},
     "nuid": "9c6f4fef-4cd1-4972-a03b-0963d9c824cc",
     "showTitle": false,
     "title": ""
    }
   },
   "outputs": [],
   "source": [
    "write_csv(employee_df, employee_write_path)\n",
    "write_csv(department_df, department_write_path)\n",
    "write_csv(country_df, country_write_path)"
   ]
  },
  {
   "cell_type": "code",
   "execution_count": 0,
   "metadata": {
    "application/vnd.databricks.v1+cell": {
     "cellMetadata": {
      "byteLimit": 2048000,
      "rowLimit": 10000
     },
     "inputWidgets": {},
     "nuid": "5ef59239-b61d-4e50-bd4f-f21a51c6254a",
     "showTitle": false,
     "title": ""
    }
   },
   "outputs": [
    {
     "output_type": "display_data",
     "data": {
      "text/html": [
       "<style scoped>\n",
       "  .table-result-container {\n",
       "    max-height: 300px;\n",
       "    overflow: auto;\n",
       "  }\n",
       "  table, th, td {\n",
       "    border: 1px solid black;\n",
       "    border-collapse: collapse;\n",
       "  }\n",
       "  th, td {\n",
       "    padding: 5px;\n",
       "  }\n",
       "  th {\n",
       "    text-align: left;\n",
       "  }\n",
       "</style><div class='table-result-container'><table class='table-result'><thead style='background-color: white'><tr><th>path</th><th>name</th><th>size</th><th>modificationTime</th></tr></thead><tbody><tr><td>dbfs:/FileStore/assignments/source_to_bronze/country/</td><td>country/</td><td>0</td><td>0</td></tr><tr><td>dbfs:/FileStore/assignments/source_to_bronze/department/</td><td>department/</td><td>0</td><td>0</td></tr><tr><td>dbfs:/FileStore/assignments/source_to_bronze/employee/</td><td>employee/</td><td>0</td><td>0</td></tr></tbody></table></div>"
      ]
     },
     "metadata": {
      "application/vnd.databricks.v1+output": {
       "addedWidgets": {},
       "aggData": [],
       "aggError": "",
       "aggOverflow": false,
       "aggSchema": [],
       "aggSeriesLimitReached": false,
       "aggType": "",
       "arguments": {},
       "columnCustomDisplayInfos": {},
       "data": [
        [
         "dbfs:/FileStore/assignments/source_to_bronze/country/",
         "country/",
         0,
         0
        ],
        [
         "dbfs:/FileStore/assignments/source_to_bronze/department/",
         "department/",
         0,
         0
        ],
        [
         "dbfs:/FileStore/assignments/source_to_bronze/employee/",
         "employee/",
         0,
         0
        ]
       ],
       "datasetInfos": [],
       "dbfsResultPath": null,
       "isJsonSchema": true,
       "metadata": {},
       "overflow": false,
       "plotOptions": {
        "customPlotOptions": {},
        "displayType": "table",
        "pivotAggregation": null,
        "pivotColumns": null,
        "xColumns": null,
        "yColumns": null
       },
       "removedWidgets": [],
       "schema": [
        {
         "metadata": "{}",
         "name": "path",
         "type": "\"string\""
        },
        {
         "metadata": "{}",
         "name": "name",
         "type": "\"string\""
        },
        {
         "metadata": "{}",
         "name": "size",
         "type": "\"long\""
        },
        {
         "metadata": "{}",
         "name": "modificationTime",
         "type": "\"long\""
        }
       ],
       "type": "table"
      }
     },
     "output_type": "display_data"
    }
   ],
   "source": [
    "display(dbutils.fs.ls('dbfs:/FileStore/assignments/source_to_bronze/'))"
   ]
  }
 ],
 "metadata": {
  "application/vnd.databricks.v1+notebook": {
   "dashboards": [],
   "language": "python",
   "notebookMetadata": {
    "mostRecentlyExecutedCommandWithImplicitDF": {
     "commandId": 1788237614022885,
     "dataframes": [
      "_sqldf"
     ]
    },
    "pythonIndentUnit": 4
   },
   "notebookName": "employee_source_to_bronze",
   "widgets": {}
  }
 },
 "nbformat": 4,
 "nbformat_minor": 0
}
